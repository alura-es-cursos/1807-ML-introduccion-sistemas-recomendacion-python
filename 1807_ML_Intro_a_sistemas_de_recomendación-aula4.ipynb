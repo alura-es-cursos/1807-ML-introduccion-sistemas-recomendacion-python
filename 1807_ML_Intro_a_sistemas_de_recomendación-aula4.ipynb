{
  "nbformat": 4,
  "nbformat_minor": 0,
  "metadata": {
    "colab": {
      "name": " ML-Intro a sistemas de recomendación.ipynb",
      "provenance": []
    },
    "kernelspec": {
      "name": "python3",
      "display_name": "Python 3"
    }
  },
  "cells": [
    {
      "cell_type": "markdown",
      "metadata": {
        "id": "8ur8gOMbNtWi"
      },
      "source": [
        "#Conocer los datasets"
      ]
    },
    {
      "cell_type": "code",
      "metadata": {
        "id": "74WrUr5ZH4l6"
      },
      "source": [
        "import pandas as pd"
      ],
      "execution_count": null,
      "outputs": []
    },
    {
      "cell_type": "code",
      "metadata": {
        "colab": {
          "base_uri": "https://localhost:8080/",
          "height": 225
        },
        "id": "PXewXkuMIGt9",
        "outputId": "2055a0df-189d-4b40-f829-84d4f5d66df6"
      },
      "source": [
        "peliculas = pd.read_csv(\"movies.csv\")\r\n",
        "peliculas.columns = ['peliculaId','titulo','generos']\r\n",
        "peliculas = peliculas.set_index('peliculaId')\r\n",
        "peliculas.head()"
      ],
      "execution_count": null,
      "outputs": [
        {
          "output_type": "execute_result",
          "data": {
            "text/html": [
              "<div>\n",
              "<style scoped>\n",
              "    .dataframe tbody tr th:only-of-type {\n",
              "        vertical-align: middle;\n",
              "    }\n",
              "\n",
              "    .dataframe tbody tr th {\n",
              "        vertical-align: top;\n",
              "    }\n",
              "\n",
              "    .dataframe thead th {\n",
              "        text-align: right;\n",
              "    }\n",
              "</style>\n",
              "<table border=\"1\" class=\"dataframe\">\n",
              "  <thead>\n",
              "    <tr style=\"text-align: right;\">\n",
              "      <th></th>\n",
              "      <th>titulo</th>\n",
              "      <th>generos</th>\n",
              "    </tr>\n",
              "    <tr>\n",
              "      <th>peliculaId</th>\n",
              "      <th></th>\n",
              "      <th></th>\n",
              "    </tr>\n",
              "  </thead>\n",
              "  <tbody>\n",
              "    <tr>\n",
              "      <th>1</th>\n",
              "      <td>Toy Story (1995)</td>\n",
              "      <td>Adventure|Animation|Children|Comedy|Fantasy</td>\n",
              "    </tr>\n",
              "    <tr>\n",
              "      <th>2</th>\n",
              "      <td>Jumanji (1995)</td>\n",
              "      <td>Adventure|Children|Fantasy</td>\n",
              "    </tr>\n",
              "    <tr>\n",
              "      <th>3</th>\n",
              "      <td>Grumpier Old Men (1995)</td>\n",
              "      <td>Comedy|Romance</td>\n",
              "    </tr>\n",
              "    <tr>\n",
              "      <th>4</th>\n",
              "      <td>Waiting to Exhale (1995)</td>\n",
              "      <td>Comedy|Drama|Romance</td>\n",
              "    </tr>\n",
              "    <tr>\n",
              "      <th>5</th>\n",
              "      <td>Father of the Bride Part II (1995)</td>\n",
              "      <td>Comedy</td>\n",
              "    </tr>\n",
              "  </tbody>\n",
              "</table>\n",
              "</div>"
            ],
            "text/plain": [
              "                                        titulo                                      generos\n",
              "peliculaId                                                                                 \n",
              "1                             Toy Story (1995)  Adventure|Animation|Children|Comedy|Fantasy\n",
              "2                               Jumanji (1995)                   Adventure|Children|Fantasy\n",
              "3                      Grumpier Old Men (1995)                               Comedy|Romance\n",
              "4                     Waiting to Exhale (1995)                         Comedy|Drama|Romance\n",
              "5           Father of the Bride Part II (1995)                                       Comedy"
            ]
          },
          "metadata": {
            "tags": []
          },
          "execution_count": 2
        }
      ]
    },
    {
      "cell_type": "code",
      "metadata": {
        "colab": {
          "base_uri": "https://localhost:8080/",
          "height": 166
        },
        "id": "4ZUIgKYKIMbU",
        "outputId": "a2f73750-df66-4a92-b2cf-5af2c6b205b6"
      },
      "source": [
        "peliculas.describe()"
      ],
      "execution_count": null,
      "outputs": [
        {
          "output_type": "execute_result",
          "data": {
            "text/html": [
              "<div>\n",
              "<style scoped>\n",
              "    .dataframe tbody tr th:only-of-type {\n",
              "        vertical-align: middle;\n",
              "    }\n",
              "\n",
              "    .dataframe tbody tr th {\n",
              "        vertical-align: top;\n",
              "    }\n",
              "\n",
              "    .dataframe thead th {\n",
              "        text-align: right;\n",
              "    }\n",
              "</style>\n",
              "<table border=\"1\" class=\"dataframe\">\n",
              "  <thead>\n",
              "    <tr style=\"text-align: right;\">\n",
              "      <th></th>\n",
              "      <th>titulo</th>\n",
              "      <th>generos</th>\n",
              "    </tr>\n",
              "  </thead>\n",
              "  <tbody>\n",
              "    <tr>\n",
              "      <th>count</th>\n",
              "      <td>9742</td>\n",
              "      <td>9742</td>\n",
              "    </tr>\n",
              "    <tr>\n",
              "      <th>unique</th>\n",
              "      <td>9737</td>\n",
              "      <td>951</td>\n",
              "    </tr>\n",
              "    <tr>\n",
              "      <th>top</th>\n",
              "      <td>Eros (2004)</td>\n",
              "      <td>Drama</td>\n",
              "    </tr>\n",
              "    <tr>\n",
              "      <th>freq</th>\n",
              "      <td>2</td>\n",
              "      <td>1053</td>\n",
              "    </tr>\n",
              "  </tbody>\n",
              "</table>\n",
              "</div>"
            ],
            "text/plain": [
              "             titulo generos\n",
              "count          9742    9742\n",
              "unique         9737     951\n",
              "top     Eros (2004)   Drama\n",
              "freq              2    1053"
            ]
          },
          "metadata": {
            "tags": []
          },
          "execution_count": 3
        }
      ]
    },
    {
      "cell_type": "code",
      "metadata": {
        "colab": {
          "base_uri": "https://localhost:8080/",
          "height": 195
        },
        "id": "fdGlKkOVIfly",
        "outputId": "f1cc0127-dcb7-412d-972c-94af65e72ef7"
      },
      "source": [
        "notas = pd.read_csv('ratings.csv')\r\n",
        "notas.columns = ['usuarioId','peliculaId','nota','momento']\r\n",
        "notas.head()"
      ],
      "execution_count": null,
      "outputs": [
        {
          "output_type": "execute_result",
          "data": {
            "text/html": [
              "<div>\n",
              "<style scoped>\n",
              "    .dataframe tbody tr th:only-of-type {\n",
              "        vertical-align: middle;\n",
              "    }\n",
              "\n",
              "    .dataframe tbody tr th {\n",
              "        vertical-align: top;\n",
              "    }\n",
              "\n",
              "    .dataframe thead th {\n",
              "        text-align: right;\n",
              "    }\n",
              "</style>\n",
              "<table border=\"1\" class=\"dataframe\">\n",
              "  <thead>\n",
              "    <tr style=\"text-align: right;\">\n",
              "      <th></th>\n",
              "      <th>usuarioId</th>\n",
              "      <th>peliculaId</th>\n",
              "      <th>nota</th>\n",
              "      <th>momento</th>\n",
              "    </tr>\n",
              "  </thead>\n",
              "  <tbody>\n",
              "    <tr>\n",
              "      <th>0</th>\n",
              "      <td>1</td>\n",
              "      <td>1</td>\n",
              "      <td>4.0</td>\n",
              "      <td>964982703</td>\n",
              "    </tr>\n",
              "    <tr>\n",
              "      <th>1</th>\n",
              "      <td>1</td>\n",
              "      <td>3</td>\n",
              "      <td>4.0</td>\n",
              "      <td>964981247</td>\n",
              "    </tr>\n",
              "    <tr>\n",
              "      <th>2</th>\n",
              "      <td>1</td>\n",
              "      <td>6</td>\n",
              "      <td>4.0</td>\n",
              "      <td>964982224</td>\n",
              "    </tr>\n",
              "    <tr>\n",
              "      <th>3</th>\n",
              "      <td>1</td>\n",
              "      <td>47</td>\n",
              "      <td>5.0</td>\n",
              "      <td>964983815</td>\n",
              "    </tr>\n",
              "    <tr>\n",
              "      <th>4</th>\n",
              "      <td>1</td>\n",
              "      <td>50</td>\n",
              "      <td>5.0</td>\n",
              "      <td>964982931</td>\n",
              "    </tr>\n",
              "  </tbody>\n",
              "</table>\n",
              "</div>"
            ],
            "text/plain": [
              "   usuarioId  peliculaId  nota    momento\n",
              "0          1           1   4.0  964982703\n",
              "1          1           3   4.0  964981247\n",
              "2          1           6   4.0  964982224\n",
              "3          1          47   5.0  964983815\n",
              "4          1          50   5.0  964982931"
            ]
          },
          "metadata": {
            "tags": []
          },
          "execution_count": 4
        }
      ]
    },
    {
      "cell_type": "code",
      "metadata": {
        "colab": {
          "base_uri": "https://localhost:8080/",
          "height": 284
        },
        "id": "goUUdYMPI0D8",
        "outputId": "c9b25126-2547-45aa-b90a-c2d861ecb0bb"
      },
      "source": [
        "notas.describe()"
      ],
      "execution_count": null,
      "outputs": [
        {
          "output_type": "execute_result",
          "data": {
            "text/html": [
              "<div>\n",
              "<style scoped>\n",
              "    .dataframe tbody tr th:only-of-type {\n",
              "        vertical-align: middle;\n",
              "    }\n",
              "\n",
              "    .dataframe tbody tr th {\n",
              "        vertical-align: top;\n",
              "    }\n",
              "\n",
              "    .dataframe thead th {\n",
              "        text-align: right;\n",
              "    }\n",
              "</style>\n",
              "<table border=\"1\" class=\"dataframe\">\n",
              "  <thead>\n",
              "    <tr style=\"text-align: right;\">\n",
              "      <th></th>\n",
              "      <th>usuarioId</th>\n",
              "      <th>peliculaId</th>\n",
              "      <th>nota</th>\n",
              "      <th>momento</th>\n",
              "    </tr>\n",
              "  </thead>\n",
              "  <tbody>\n",
              "    <tr>\n",
              "      <th>count</th>\n",
              "      <td>100836.000000</td>\n",
              "      <td>100836.000000</td>\n",
              "      <td>100836.000000</td>\n",
              "      <td>1.008360e+05</td>\n",
              "    </tr>\n",
              "    <tr>\n",
              "      <th>mean</th>\n",
              "      <td>326.127564</td>\n",
              "      <td>19435.295718</td>\n",
              "      <td>3.501557</td>\n",
              "      <td>1.205946e+09</td>\n",
              "    </tr>\n",
              "    <tr>\n",
              "      <th>std</th>\n",
              "      <td>182.618491</td>\n",
              "      <td>35530.987199</td>\n",
              "      <td>1.042529</td>\n",
              "      <td>2.162610e+08</td>\n",
              "    </tr>\n",
              "    <tr>\n",
              "      <th>min</th>\n",
              "      <td>1.000000</td>\n",
              "      <td>1.000000</td>\n",
              "      <td>0.500000</td>\n",
              "      <td>8.281246e+08</td>\n",
              "    </tr>\n",
              "    <tr>\n",
              "      <th>25%</th>\n",
              "      <td>177.000000</td>\n",
              "      <td>1199.000000</td>\n",
              "      <td>3.000000</td>\n",
              "      <td>1.019124e+09</td>\n",
              "    </tr>\n",
              "    <tr>\n",
              "      <th>50%</th>\n",
              "      <td>325.000000</td>\n",
              "      <td>2991.000000</td>\n",
              "      <td>3.500000</td>\n",
              "      <td>1.186087e+09</td>\n",
              "    </tr>\n",
              "    <tr>\n",
              "      <th>75%</th>\n",
              "      <td>477.000000</td>\n",
              "      <td>8122.000000</td>\n",
              "      <td>4.000000</td>\n",
              "      <td>1.435994e+09</td>\n",
              "    </tr>\n",
              "    <tr>\n",
              "      <th>max</th>\n",
              "      <td>610.000000</td>\n",
              "      <td>193609.000000</td>\n",
              "      <td>5.000000</td>\n",
              "      <td>1.537799e+09</td>\n",
              "    </tr>\n",
              "  </tbody>\n",
              "</table>\n",
              "</div>"
            ],
            "text/plain": [
              "           usuarioId     peliculaId           nota       momento\n",
              "count  100836.000000  100836.000000  100836.000000  1.008360e+05\n",
              "mean      326.127564   19435.295718       3.501557  1.205946e+09\n",
              "std       182.618491   35530.987199       1.042529  2.162610e+08\n",
              "min         1.000000       1.000000       0.500000  8.281246e+08\n",
              "25%       177.000000    1199.000000       3.000000  1.019124e+09\n",
              "50%       325.000000    2991.000000       3.500000  1.186087e+09\n",
              "75%       477.000000    8122.000000       4.000000  1.435994e+09\n",
              "max       610.000000  193609.000000       5.000000  1.537799e+09"
            ]
          },
          "metadata": {
            "tags": []
          },
          "execution_count": 5
        }
      ]
    },
    {
      "cell_type": "markdown",
      "metadata": {
        "id": "YyNMVAs4Nj7x"
      },
      "source": [
        "#Primer intento de un sistema de recomendación"
      ]
    },
    {
      "cell_type": "code",
      "metadata": {
        "colab": {
          "base_uri": "https://localhost:8080/"
        },
        "id": "eW9GyXxnJMhv",
        "outputId": "8000df3f-973c-4f33-eb80-9bbf76b022e4"
      },
      "source": [
        "notas.value_counts(\"peliculaId\")"
      ],
      "execution_count": null,
      "outputs": [
        {
          "output_type": "execute_result",
          "data": {
            "text/plain": [
              "peliculaId\n",
              "356       329\n",
              "318       317\n",
              "296       307\n",
              "593       279\n",
              "2571      278\n",
              "         ... \n",
              "57502       1\n",
              "57522       1\n",
              "57526       1\n",
              "4032        1\n",
              "193609      1\n",
              "Length: 9724, dtype: int64"
            ]
          },
          "metadata": {
            "tags": []
          },
          "execution_count": 6
        }
      ]
    },
    {
      "cell_type": "code",
      "metadata": {
        "colab": {
          "base_uri": "https://localhost:8080/"
        },
        "id": "UZNHbl7HOaAZ",
        "outputId": "3122a936-5ccc-4c56-d3d3-8b877d887413"
      },
      "source": [
        "peliculas.loc[356]"
      ],
      "execution_count": null,
      "outputs": [
        {
          "output_type": "execute_result",
          "data": {
            "text/plain": [
              "titulo          Forrest Gump (1994)\n",
              "generos    Comedy|Drama|Romance|War\n",
              "Name: 356, dtype: object"
            ]
          },
          "metadata": {
            "tags": []
          },
          "execution_count": 7
        }
      ]
    },
    {
      "cell_type": "code",
      "metadata": {
        "id": "emX9EvaFOpNB"
      },
      "source": [
        "total_de_votos = notas.value_counts(\"peliculaId\")"
      ],
      "execution_count": null,
      "outputs": []
    },
    {
      "cell_type": "code",
      "metadata": {
        "colab": {
          "base_uri": "https://localhost:8080/",
          "height": 406
        },
        "id": "uS6KWMWJPHbD",
        "outputId": "2e08f601-74bb-42cf-cf83-35143281421b"
      },
      "source": [
        "peliculas['total_de_votos'] = total_de_votos\r\n",
        "peliculas.sort_values('total_de_votos', ascending=False).head(10)"
      ],
      "execution_count": null,
      "outputs": [
        {
          "output_type": "execute_result",
          "data": {
            "text/html": [
              "<div>\n",
              "<style scoped>\n",
              "    .dataframe tbody tr th:only-of-type {\n",
              "        vertical-align: middle;\n",
              "    }\n",
              "\n",
              "    .dataframe tbody tr th {\n",
              "        vertical-align: top;\n",
              "    }\n",
              "\n",
              "    .dataframe thead th {\n",
              "        text-align: right;\n",
              "    }\n",
              "</style>\n",
              "<table border=\"1\" class=\"dataframe\">\n",
              "  <thead>\n",
              "    <tr style=\"text-align: right;\">\n",
              "      <th></th>\n",
              "      <th>titulo</th>\n",
              "      <th>generos</th>\n",
              "      <th>total_de_votos</th>\n",
              "    </tr>\n",
              "    <tr>\n",
              "      <th>peliculaId</th>\n",
              "      <th></th>\n",
              "      <th></th>\n",
              "      <th></th>\n",
              "    </tr>\n",
              "  </thead>\n",
              "  <tbody>\n",
              "    <tr>\n",
              "      <th>356</th>\n",
              "      <td>Forrest Gump (1994)</td>\n",
              "      <td>Comedy|Drama|Romance|War</td>\n",
              "      <td>329.0</td>\n",
              "    </tr>\n",
              "    <tr>\n",
              "      <th>318</th>\n",
              "      <td>Shawshank Redemption, The (1994)</td>\n",
              "      <td>Crime|Drama</td>\n",
              "      <td>317.0</td>\n",
              "    </tr>\n",
              "    <tr>\n",
              "      <th>296</th>\n",
              "      <td>Pulp Fiction (1994)</td>\n",
              "      <td>Comedy|Crime|Drama|Thriller</td>\n",
              "      <td>307.0</td>\n",
              "    </tr>\n",
              "    <tr>\n",
              "      <th>593</th>\n",
              "      <td>Silence of the Lambs, The (1991)</td>\n",
              "      <td>Crime|Horror|Thriller</td>\n",
              "      <td>279.0</td>\n",
              "    </tr>\n",
              "    <tr>\n",
              "      <th>2571</th>\n",
              "      <td>Matrix, The (1999)</td>\n",
              "      <td>Action|Sci-Fi|Thriller</td>\n",
              "      <td>278.0</td>\n",
              "    </tr>\n",
              "    <tr>\n",
              "      <th>260</th>\n",
              "      <td>Star Wars: Episode IV - A New Hope (1977)</td>\n",
              "      <td>Action|Adventure|Sci-Fi</td>\n",
              "      <td>251.0</td>\n",
              "    </tr>\n",
              "    <tr>\n",
              "      <th>480</th>\n",
              "      <td>Jurassic Park (1993)</td>\n",
              "      <td>Action|Adventure|Sci-Fi|Thriller</td>\n",
              "      <td>238.0</td>\n",
              "    </tr>\n",
              "    <tr>\n",
              "      <th>110</th>\n",
              "      <td>Braveheart (1995)</td>\n",
              "      <td>Action|Drama|War</td>\n",
              "      <td>237.0</td>\n",
              "    </tr>\n",
              "    <tr>\n",
              "      <th>589</th>\n",
              "      <td>Terminator 2: Judgment Day (1991)</td>\n",
              "      <td>Action|Sci-Fi</td>\n",
              "      <td>224.0</td>\n",
              "    </tr>\n",
              "    <tr>\n",
              "      <th>527</th>\n",
              "      <td>Schindler's List (1993)</td>\n",
              "      <td>Drama|War</td>\n",
              "      <td>220.0</td>\n",
              "    </tr>\n",
              "  </tbody>\n",
              "</table>\n",
              "</div>"
            ],
            "text/plain": [
              "                                               titulo  ... total_de_votos\n",
              "peliculaId                                             ...               \n",
              "356                               Forrest Gump (1994)  ...          329.0\n",
              "318                  Shawshank Redemption, The (1994)  ...          317.0\n",
              "296                               Pulp Fiction (1994)  ...          307.0\n",
              "593                  Silence of the Lambs, The (1991)  ...          279.0\n",
              "2571                               Matrix, The (1999)  ...          278.0\n",
              "260         Star Wars: Episode IV - A New Hope (1977)  ...          251.0\n",
              "480                              Jurassic Park (1993)  ...          238.0\n",
              "110                                 Braveheart (1995)  ...          237.0\n",
              "589                 Terminator 2: Judgment Day (1991)  ...          224.0\n",
              "527                           Schindler's List (1993)  ...          220.0\n",
              "\n",
              "[10 rows x 3 columns]"
            ]
          },
          "metadata": {
            "tags": []
          },
          "execution_count": 9
        }
      ]
    },
    {
      "cell_type": "markdown",
      "metadata": {
        "id": "R4a06B1gpzqa"
      },
      "source": [
        "#Segundo intento - considerando las notas"
      ]
    },
    {
      "cell_type": "code",
      "metadata": {
        "colab": {
          "base_uri": "https://localhost:8080/",
          "height": 396
        },
        "id": "m9gk78UBPUqS",
        "outputId": "2e2e1f36-025d-49ff-b364-94c43761e6ba"
      },
      "source": [
        "media_votos = notas.groupby('peliculaId').mean()['nota']\r\n",
        "peliculas['media_votos'] = media_votos\r\n",
        "peliculas.head()"
      ],
      "execution_count": null,
      "outputs": [
        {
          "output_type": "execute_result",
          "data": {
            "text/html": [
              "<div>\n",
              "<style scoped>\n",
              "    .dataframe tbody tr th:only-of-type {\n",
              "        vertical-align: middle;\n",
              "    }\n",
              "\n",
              "    .dataframe tbody tr th {\n",
              "        vertical-align: top;\n",
              "    }\n",
              "\n",
              "    .dataframe thead th {\n",
              "        text-align: right;\n",
              "    }\n",
              "</style>\n",
              "<table border=\"1\" class=\"dataframe\">\n",
              "  <thead>\n",
              "    <tr style=\"text-align: right;\">\n",
              "      <th></th>\n",
              "      <th>titulo</th>\n",
              "      <th>generos</th>\n",
              "      <th>total_de_votos</th>\n",
              "      <th>media_votos</th>\n",
              "    </tr>\n",
              "    <tr>\n",
              "      <th>peliculaId</th>\n",
              "      <th></th>\n",
              "      <th></th>\n",
              "      <th></th>\n",
              "      <th></th>\n",
              "    </tr>\n",
              "  </thead>\n",
              "  <tbody>\n",
              "    <tr>\n",
              "      <th>1</th>\n",
              "      <td>Toy Story (1995)</td>\n",
              "      <td>Adventure|Animation|Children|Comedy|Fantasy</td>\n",
              "      <td>215.0</td>\n",
              "      <td>3.920930</td>\n",
              "    </tr>\n",
              "    <tr>\n",
              "      <th>2</th>\n",
              "      <td>Jumanji (1995)</td>\n",
              "      <td>Adventure|Children|Fantasy</td>\n",
              "      <td>110.0</td>\n",
              "      <td>3.431818</td>\n",
              "    </tr>\n",
              "    <tr>\n",
              "      <th>3</th>\n",
              "      <td>Grumpier Old Men (1995)</td>\n",
              "      <td>Comedy|Romance</td>\n",
              "      <td>52.0</td>\n",
              "      <td>3.259615</td>\n",
              "    </tr>\n",
              "    <tr>\n",
              "      <th>4</th>\n",
              "      <td>Waiting to Exhale (1995)</td>\n",
              "      <td>Comedy|Drama|Romance</td>\n",
              "      <td>7.0</td>\n",
              "      <td>2.357143</td>\n",
              "    </tr>\n",
              "    <tr>\n",
              "      <th>5</th>\n",
              "      <td>Father of the Bride Part II (1995)</td>\n",
              "      <td>Comedy</td>\n",
              "      <td>49.0</td>\n",
              "      <td>3.071429</td>\n",
              "    </tr>\n",
              "  </tbody>\n",
              "</table>\n",
              "</div>"
            ],
            "text/plain": [
              "                                        titulo  ... media_votos\n",
              "peliculaId                                      ...            \n",
              "1                             Toy Story (1995)  ...    3.920930\n",
              "2                               Jumanji (1995)  ...    3.431818\n",
              "3                      Grumpier Old Men (1995)  ...    3.259615\n",
              "4                     Waiting to Exhale (1995)  ...    2.357143\n",
              "5           Father of the Bride Part II (1995)  ...    3.071429\n",
              "\n",
              "[5 rows x 4 columns]"
            ]
          },
          "metadata": {
            "tags": []
          },
          "execution_count": 10
        }
      ]
    },
    {
      "cell_type": "code",
      "metadata": {
        "colab": {
          "base_uri": "https://localhost:8080/",
          "height": 457
        },
        "id": "arrBVfwipy23",
        "outputId": "2ba60b4a-5731-4c06-dfac-49aa1bb15bfa"
      },
      "source": [
        "peliculas.sort_values('total_de_votos', ascending=False).head(10)"
      ],
      "execution_count": null,
      "outputs": [
        {
          "output_type": "execute_result",
          "data": {
            "text/html": [
              "<div>\n",
              "<style scoped>\n",
              "    .dataframe tbody tr th:only-of-type {\n",
              "        vertical-align: middle;\n",
              "    }\n",
              "\n",
              "    .dataframe tbody tr th {\n",
              "        vertical-align: top;\n",
              "    }\n",
              "\n",
              "    .dataframe thead th {\n",
              "        text-align: right;\n",
              "    }\n",
              "</style>\n",
              "<table border=\"1\" class=\"dataframe\">\n",
              "  <thead>\n",
              "    <tr style=\"text-align: right;\">\n",
              "      <th></th>\n",
              "      <th>titulo</th>\n",
              "      <th>generos</th>\n",
              "      <th>total_de_votos</th>\n",
              "      <th>media_votos</th>\n",
              "    </tr>\n",
              "    <tr>\n",
              "      <th>peliculaId</th>\n",
              "      <th></th>\n",
              "      <th></th>\n",
              "      <th></th>\n",
              "      <th></th>\n",
              "    </tr>\n",
              "  </thead>\n",
              "  <tbody>\n",
              "    <tr>\n",
              "      <th>356</th>\n",
              "      <td>Forrest Gump (1994)</td>\n",
              "      <td>Comedy|Drama|Romance|War</td>\n",
              "      <td>329.0</td>\n",
              "      <td>4.164134</td>\n",
              "    </tr>\n",
              "    <tr>\n",
              "      <th>318</th>\n",
              "      <td>Shawshank Redemption, The (1994)</td>\n",
              "      <td>Crime|Drama</td>\n",
              "      <td>317.0</td>\n",
              "      <td>4.429022</td>\n",
              "    </tr>\n",
              "    <tr>\n",
              "      <th>296</th>\n",
              "      <td>Pulp Fiction (1994)</td>\n",
              "      <td>Comedy|Crime|Drama|Thriller</td>\n",
              "      <td>307.0</td>\n",
              "      <td>4.197068</td>\n",
              "    </tr>\n",
              "    <tr>\n",
              "      <th>593</th>\n",
              "      <td>Silence of the Lambs, The (1991)</td>\n",
              "      <td>Crime|Horror|Thriller</td>\n",
              "      <td>279.0</td>\n",
              "      <td>4.161290</td>\n",
              "    </tr>\n",
              "    <tr>\n",
              "      <th>2571</th>\n",
              "      <td>Matrix, The (1999)</td>\n",
              "      <td>Action|Sci-Fi|Thriller</td>\n",
              "      <td>278.0</td>\n",
              "      <td>4.192446</td>\n",
              "    </tr>\n",
              "    <tr>\n",
              "      <th>260</th>\n",
              "      <td>Star Wars: Episode IV - A New Hope (1977)</td>\n",
              "      <td>Action|Adventure|Sci-Fi</td>\n",
              "      <td>251.0</td>\n",
              "      <td>4.231076</td>\n",
              "    </tr>\n",
              "    <tr>\n",
              "      <th>480</th>\n",
              "      <td>Jurassic Park (1993)</td>\n",
              "      <td>Action|Adventure|Sci-Fi|Thriller</td>\n",
              "      <td>238.0</td>\n",
              "      <td>3.750000</td>\n",
              "    </tr>\n",
              "    <tr>\n",
              "      <th>110</th>\n",
              "      <td>Braveheart (1995)</td>\n",
              "      <td>Action|Drama|War</td>\n",
              "      <td>237.0</td>\n",
              "      <td>4.031646</td>\n",
              "    </tr>\n",
              "    <tr>\n",
              "      <th>589</th>\n",
              "      <td>Terminator 2: Judgment Day (1991)</td>\n",
              "      <td>Action|Sci-Fi</td>\n",
              "      <td>224.0</td>\n",
              "      <td>3.970982</td>\n",
              "    </tr>\n",
              "    <tr>\n",
              "      <th>527</th>\n",
              "      <td>Schindler's List (1993)</td>\n",
              "      <td>Drama|War</td>\n",
              "      <td>220.0</td>\n",
              "      <td>4.225000</td>\n",
              "    </tr>\n",
              "  </tbody>\n",
              "</table>\n",
              "</div>"
            ],
            "text/plain": [
              "                                               titulo  ... media_votos\n",
              "peliculaId                                             ...            \n",
              "356                               Forrest Gump (1994)  ...    4.164134\n",
              "318                  Shawshank Redemption, The (1994)  ...    4.429022\n",
              "296                               Pulp Fiction (1994)  ...    4.197068\n",
              "593                  Silence of the Lambs, The (1991)  ...    4.161290\n",
              "2571                               Matrix, The (1999)  ...    4.192446\n",
              "260         Star Wars: Episode IV - A New Hope (1977)  ...    4.231076\n",
              "480                              Jurassic Park (1993)  ...    3.750000\n",
              "110                                 Braveheart (1995)  ...    4.031646\n",
              "589                 Terminator 2: Judgment Day (1991)  ...    3.970982\n",
              "527                           Schindler's List (1993)  ...    4.225000\n",
              "\n",
              "[10 rows x 4 columns]"
            ]
          },
          "metadata": {
            "tags": []
          },
          "execution_count": 11
        }
      ]
    },
    {
      "cell_type": "code",
      "metadata": {
        "colab": {
          "base_uri": "https://localhost:8080/",
          "height": 423
        },
        "id": "ux78zm-wqpez",
        "outputId": "7f863b68-5447-467f-fa27-22ac97b8f73e"
      },
      "source": [
        "peliculas_con_mas_50_votos = peliculas.query('total_de_votos >=50')\r\n",
        "peliculas_con_mas_50_votos.sort_values('media_votos', ascending=False).head(10)"
      ],
      "execution_count": null,
      "outputs": [
        {
          "output_type": "execute_result",
          "data": {
            "text/html": [
              "<div>\n",
              "<style scoped>\n",
              "    .dataframe tbody tr th:only-of-type {\n",
              "        vertical-align: middle;\n",
              "    }\n",
              "\n",
              "    .dataframe tbody tr th {\n",
              "        vertical-align: top;\n",
              "    }\n",
              "\n",
              "    .dataframe thead th {\n",
              "        text-align: right;\n",
              "    }\n",
              "</style>\n",
              "<table border=\"1\" class=\"dataframe\">\n",
              "  <thead>\n",
              "    <tr style=\"text-align: right;\">\n",
              "      <th></th>\n",
              "      <th>titulo</th>\n",
              "      <th>generos</th>\n",
              "      <th>total_de_votos</th>\n",
              "      <th>media_votos</th>\n",
              "    </tr>\n",
              "    <tr>\n",
              "      <th>peliculaId</th>\n",
              "      <th></th>\n",
              "      <th></th>\n",
              "      <th></th>\n",
              "      <th></th>\n",
              "    </tr>\n",
              "  </thead>\n",
              "  <tbody>\n",
              "    <tr>\n",
              "      <th>318</th>\n",
              "      <td>Shawshank Redemption, The (1994)</td>\n",
              "      <td>Crime|Drama</td>\n",
              "      <td>317.0</td>\n",
              "      <td>4.429022</td>\n",
              "    </tr>\n",
              "    <tr>\n",
              "      <th>858</th>\n",
              "      <td>Godfather, The (1972)</td>\n",
              "      <td>Crime|Drama</td>\n",
              "      <td>192.0</td>\n",
              "      <td>4.289062</td>\n",
              "    </tr>\n",
              "    <tr>\n",
              "      <th>2959</th>\n",
              "      <td>Fight Club (1999)</td>\n",
              "      <td>Action|Crime|Drama|Thriller</td>\n",
              "      <td>218.0</td>\n",
              "      <td>4.272936</td>\n",
              "    </tr>\n",
              "    <tr>\n",
              "      <th>1276</th>\n",
              "      <td>Cool Hand Luke (1967)</td>\n",
              "      <td>Drama</td>\n",
              "      <td>57.0</td>\n",
              "      <td>4.271930</td>\n",
              "    </tr>\n",
              "    <tr>\n",
              "      <th>750</th>\n",
              "      <td>Dr. Strangelove or: How I Learned to Stop Worr...</td>\n",
              "      <td>Comedy|War</td>\n",
              "      <td>97.0</td>\n",
              "      <td>4.268041</td>\n",
              "    </tr>\n",
              "    <tr>\n",
              "      <th>904</th>\n",
              "      <td>Rear Window (1954)</td>\n",
              "      <td>Mystery|Thriller</td>\n",
              "      <td>84.0</td>\n",
              "      <td>4.261905</td>\n",
              "    </tr>\n",
              "    <tr>\n",
              "      <th>1221</th>\n",
              "      <td>Godfather: Part II, The (1974)</td>\n",
              "      <td>Crime|Drama</td>\n",
              "      <td>129.0</td>\n",
              "      <td>4.259690</td>\n",
              "    </tr>\n",
              "    <tr>\n",
              "      <th>48516</th>\n",
              "      <td>Departed, The (2006)</td>\n",
              "      <td>Crime|Drama|Thriller</td>\n",
              "      <td>107.0</td>\n",
              "      <td>4.252336</td>\n",
              "    </tr>\n",
              "    <tr>\n",
              "      <th>1213</th>\n",
              "      <td>Goodfellas (1990)</td>\n",
              "      <td>Crime|Drama</td>\n",
              "      <td>126.0</td>\n",
              "      <td>4.250000</td>\n",
              "    </tr>\n",
              "    <tr>\n",
              "      <th>912</th>\n",
              "      <td>Casablanca (1942)</td>\n",
              "      <td>Drama|Romance</td>\n",
              "      <td>100.0</td>\n",
              "      <td>4.240000</td>\n",
              "    </tr>\n",
              "  </tbody>\n",
              "</table>\n",
              "</div>"
            ],
            "text/plain": [
              "                                                       titulo  ... media_votos\n",
              "peliculaId                                                     ...            \n",
              "318                          Shawshank Redemption, The (1994)  ...    4.429022\n",
              "858                                     Godfather, The (1972)  ...    4.289062\n",
              "2959                                        Fight Club (1999)  ...    4.272936\n",
              "1276                                    Cool Hand Luke (1967)  ...    4.271930\n",
              "750         Dr. Strangelove or: How I Learned to Stop Worr...  ...    4.268041\n",
              "904                                        Rear Window (1954)  ...    4.261905\n",
              "1221                           Godfather: Part II, The (1974)  ...    4.259690\n",
              "48516                                    Departed, The (2006)  ...    4.252336\n",
              "1213                                        Goodfellas (1990)  ...    4.250000\n",
              "912                                         Casablanca (1942)  ...    4.240000\n",
              "\n",
              "[10 rows x 4 columns]"
            ]
          },
          "metadata": {
            "tags": []
          },
          "execution_count": 12
        }
      ]
    },
    {
      "cell_type": "markdown",
      "metadata": {
        "id": "WlnPheLr0Quv"
      },
      "source": [
        "#Tercer intento - considerando las películas que el usuario miró"
      ]
    },
    {
      "cell_type": "code",
      "metadata": {
        "colab": {
          "base_uri": "https://localhost:8080/",
          "height": 396
        },
        "id": "NxxnRMULq9H9",
        "outputId": "38ba6dfa-b3e4-41cd-879c-39a35034b091"
      },
      "source": [
        "peliculas_que_mire = [1,19,21,10,2]\r\n",
        "peliculas.loc[peliculas_que_mire]"
      ],
      "execution_count": null,
      "outputs": [
        {
          "output_type": "execute_result",
          "data": {
            "text/html": [
              "<div>\n",
              "<style scoped>\n",
              "    .dataframe tbody tr th:only-of-type {\n",
              "        vertical-align: middle;\n",
              "    }\n",
              "\n",
              "    .dataframe tbody tr th {\n",
              "        vertical-align: top;\n",
              "    }\n",
              "\n",
              "    .dataframe thead th {\n",
              "        text-align: right;\n",
              "    }\n",
              "</style>\n",
              "<table border=\"1\" class=\"dataframe\">\n",
              "  <thead>\n",
              "    <tr style=\"text-align: right;\">\n",
              "      <th></th>\n",
              "      <th>titulo</th>\n",
              "      <th>generos</th>\n",
              "      <th>total_de_votos</th>\n",
              "      <th>media_votos</th>\n",
              "    </tr>\n",
              "    <tr>\n",
              "      <th>peliculaId</th>\n",
              "      <th></th>\n",
              "      <th></th>\n",
              "      <th></th>\n",
              "      <th></th>\n",
              "    </tr>\n",
              "  </thead>\n",
              "  <tbody>\n",
              "    <tr>\n",
              "      <th>1</th>\n",
              "      <td>Toy Story (1995)</td>\n",
              "      <td>Adventure|Animation|Children|Comedy|Fantasy</td>\n",
              "      <td>215.0</td>\n",
              "      <td>3.920930</td>\n",
              "    </tr>\n",
              "    <tr>\n",
              "      <th>19</th>\n",
              "      <td>Ace Ventura: When Nature Calls (1995)</td>\n",
              "      <td>Comedy</td>\n",
              "      <td>88.0</td>\n",
              "      <td>2.727273</td>\n",
              "    </tr>\n",
              "    <tr>\n",
              "      <th>21</th>\n",
              "      <td>Get Shorty (1995)</td>\n",
              "      <td>Comedy|Crime|Thriller</td>\n",
              "      <td>89.0</td>\n",
              "      <td>3.494382</td>\n",
              "    </tr>\n",
              "    <tr>\n",
              "      <th>10</th>\n",
              "      <td>GoldenEye (1995)</td>\n",
              "      <td>Action|Adventure|Thriller</td>\n",
              "      <td>132.0</td>\n",
              "      <td>3.496212</td>\n",
              "    </tr>\n",
              "    <tr>\n",
              "      <th>2</th>\n",
              "      <td>Jumanji (1995)</td>\n",
              "      <td>Adventure|Children|Fantasy</td>\n",
              "      <td>110.0</td>\n",
              "      <td>3.431818</td>\n",
              "    </tr>\n",
              "  </tbody>\n",
              "</table>\n",
              "</div>"
            ],
            "text/plain": [
              "                                           titulo  ... media_votos\n",
              "peliculaId                                         ...            \n",
              "1                                Toy Story (1995)  ...    3.920930\n",
              "19          Ace Ventura: When Nature Calls (1995)  ...    2.727273\n",
              "21                              Get Shorty (1995)  ...    3.494382\n",
              "10                               GoldenEye (1995)  ...    3.496212\n",
              "2                                  Jumanji (1995)  ...    3.431818\n",
              "\n",
              "[5 rows x 4 columns]"
            ]
          },
          "metadata": {
            "tags": []
          },
          "execution_count": 13
        }
      ]
    },
    {
      "cell_type": "code",
      "metadata": {
        "colab": {
          "base_uri": "https://localhost:8080/",
          "height": 170
        },
        "id": "nlHINiWMzrrf",
        "outputId": "983f911b-4ed4-472a-d5b2-60cefb820760"
      },
      "source": [
        "aventura_infantil_fantasia = peliculas_con_mas_50_votos.query(\"generos=='Adventure|Children|Fantasy'\")\r\n",
        "aventura_infantil_fantasia.drop(peliculas_que_mire, errors='ignore').sort_values('media_votos',ascending=False).head(10)"
      ],
      "execution_count": null,
      "outputs": [
        {
          "output_type": "execute_result",
          "data": {
            "text/html": [
              "<div>\n",
              "<style scoped>\n",
              "    .dataframe tbody tr th:only-of-type {\n",
              "        vertical-align: middle;\n",
              "    }\n",
              "\n",
              "    .dataframe tbody tr th {\n",
              "        vertical-align: top;\n",
              "    }\n",
              "\n",
              "    .dataframe thead th {\n",
              "        text-align: right;\n",
              "    }\n",
              "</style>\n",
              "<table border=\"1\" class=\"dataframe\">\n",
              "  <thead>\n",
              "    <tr style=\"text-align: right;\">\n",
              "      <th></th>\n",
              "      <th>titulo</th>\n",
              "      <th>generos</th>\n",
              "      <th>total_de_votos</th>\n",
              "      <th>media_votos</th>\n",
              "    </tr>\n",
              "    <tr>\n",
              "      <th>peliculaId</th>\n",
              "      <th></th>\n",
              "      <th></th>\n",
              "      <th></th>\n",
              "      <th></th>\n",
              "    </tr>\n",
              "  </thead>\n",
              "  <tbody>\n",
              "    <tr>\n",
              "      <th>4896</th>\n",
              "      <td>Harry Potter and the Sorcerer's Stone (a.k.a. ...</td>\n",
              "      <td>Adventure|Children|Fantasy</td>\n",
              "      <td>107.0</td>\n",
              "      <td>3.761682</td>\n",
              "    </tr>\n",
              "    <tr>\n",
              "      <th>41566</th>\n",
              "      <td>Chronicles of Narnia: The Lion, the Witch and ...</td>\n",
              "      <td>Adventure|Children|Fantasy</td>\n",
              "      <td>62.0</td>\n",
              "      <td>3.443548</td>\n",
              "    </tr>\n",
              "  </tbody>\n",
              "</table>\n",
              "</div>"
            ],
            "text/plain": [
              "                                                       titulo  ... media_votos\n",
              "peliculaId                                                     ...            \n",
              "4896        Harry Potter and the Sorcerer's Stone (a.k.a. ...  ...    3.761682\n",
              "41566       Chronicles of Narnia: The Lion, the Witch and ...  ...    3.443548\n",
              "\n",
              "[2 rows x 4 columns]"
            ]
          },
          "metadata": {
            "tags": []
          },
          "execution_count": 14
        }
      ]
    },
    {
      "cell_type": "markdown",
      "metadata": {
        "id": "SVzQLV6IT7Xb"
      },
      "source": [
        "#Calculando las distancias entre usuarios"
      ]
    },
    {
      "cell_type": "code",
      "metadata": {
        "id": "unXFlSu1SvU8"
      },
      "source": [
        "#Juan - 5\r\n",
        "#Christian - 4 \r\n",
        "#Sergio - 3.5\r\n",
        "\r\n",
        "#Juan - Christian = 1\r\n",
        "#Christian - Sergio = 0.5\r\n"
      ],
      "execution_count": null,
      "outputs": []
    },
    {
      "cell_type": "code",
      "metadata": {
        "colab": {
          "base_uri": "https://localhost:8080/",
          "height": 298
        },
        "id": "P3YLkc7bUBxr",
        "outputId": "6c8f1043-7aa7-47f4-c608-59c36addd406"
      },
      "source": [
        "#Juan = [5,5]\r\n",
        "#Sergio - [4,4.5]\r\n",
        "\r\n",
        "import matplotlib.pyplot as plt\r\n",
        "\r\n",
        "plt.plot(5,5,\"o\")\r\n",
        "plt.plot(4,4.5,\"o\")\r\n",
        "plt.legend(['Juan','Sergio'])\r\n",
        "plt.title('Calcular las distancias entre usuarios')\r\n",
        "\r\n",
        "plt.plot([4,5],[4.5,4.5],linestyle=\"-\")\r\n",
        "plt.plot([5,5],[4.5,5],linestyle=\"-\")\r\n",
        "plt.plot([4,5],[4.5,5],linestyle=\"-\")"
      ],
      "execution_count": null,
      "outputs": [
        {
          "output_type": "execute_result",
          "data": {
            "text/plain": [
              "[<matplotlib.lines.Line2D at 0x7f57fe9e4588>]"
            ]
          },
          "metadata": {
            "tags": []
          },
          "execution_count": 16
        },
        {
          "output_type": "display_data",
          "data": {
            "image/png": "[encoded data removed]",
            "text/plain": [
              "<Figure size 432x288 with 1 Axes>"
            ]
          },
          "metadata": {
            "tags": [],
            "needs_background": "light"
          }
        }
      ]
    },
    {
      "cell_type": "code",
      "metadata": {
        "colab": {
          "base_uri": "https://localhost:8080/"
        },
        "id": "4bTJDwX8UmFi",
        "outputId": "e0e113d1-ec9e-4711-e3ca-780ac02bce40"
      },
      "source": [
        "import numpy as np\r\n",
        "\r\n",
        "juan = np.array([5,5])\r\n",
        "sergio = np.array([4,4.5])\r\n",
        "\r\n",
        "juan - sergio\r\n"
      ],
      "execution_count": null,
      "outputs": [
        {
          "output_type": "execute_result",
          "data": {
            "text/plain": [
              "array([1. , 0.5])"
            ]
          },
          "metadata": {
            "tags": []
          },
          "execution_count": 17
        }
      ]
    },
    {
      "cell_type": "code",
      "metadata": {
        "id": "mGIDdl1Gc-pU"
      },
      "source": [
        "from math import sqrt \r\n",
        "\r\n",
        "def pitagoras(a,b):\r\n",
        "  (delta_x, delta_y) = a - b\r\n",
        "  return sqrt(delta_x*delta_x + delta_y*delta_y)\r\n"
      ],
      "execution_count": null,
      "outputs": []
    },
    {
      "cell_type": "code",
      "metadata": {
        "colab": {
          "base_uri": "https://localhost:8080/"
        },
        "id": "b7-m3qSFio0N",
        "outputId": "006ea66e-ab88-4a56-d03d-95360384a2df"
      },
      "source": [
        "pitagoras(juan,sergio)"
      ],
      "execution_count": null,
      "outputs": [
        {
          "output_type": "execute_result",
          "data": {
            "text/plain": [
              "1.118033988749895"
            ]
          },
          "metadata": {
            "tags": []
          },
          "execution_count": 19
        }
      ]
    },
    {
      "cell_type": "code",
      "metadata": {
        "colab": {
          "base_uri": "https://localhost:8080/"
        },
        "id": "Xj26AOu3isDR",
        "outputId": "e309e1f0-b8f3-40a5-8c2b-42e02ead69a3"
      },
      "source": [
        "np.linalg.norm(juan-sergio)"
      ],
      "execution_count": null,
      "outputs": [
        {
          "output_type": "execute_result",
          "data": {
            "text/plain": [
              "1.118033988749895"
            ]
          },
          "metadata": {
            "tags": []
          },
          "execution_count": 20
        }
      ]
    },
    {
      "cell_type": "code",
      "metadata": {
        "id": "51CBSKQVjHZG"
      },
      "source": [
        "from math import sqrt \r\n",
        "\r\n",
        "def distancia(a,b):\r\n",
        "  return np.linalg.norm(a-b)"
      ],
      "execution_count": null,
      "outputs": []
    },
    {
      "cell_type": "code",
      "metadata": {
        "colab": {
          "base_uri": "https://localhost:8080/"
        },
        "id": "hDLD9ewzjRRq",
        "outputId": "b82b1694-f317-4fae-9f09-104ab6c8a75b"
      },
      "source": [
        "distancia(juan,sergio)"
      ],
      "execution_count": null,
      "outputs": [
        {
          "output_type": "execute_result",
          "data": {
            "text/plain": [
              "1.118033988749895"
            ]
          },
          "metadata": {
            "tags": []
          },
          "execution_count": 22
        }
      ]
    },
    {
      "cell_type": "code",
      "metadata": {
        "colab": {
          "base_uri": "https://localhost:8080/",
          "height": 298
        },
        "id": "XBsHNOqPjTzm",
        "outputId": "27985a48-dac1-419b-809d-a0142e1448d0"
      },
      "source": [
        "plt.plot(5,5,\"o\")\r\n",
        "plt.plot(4,4.5,\"o\")\r\n",
        "plt.plot(4.5,3.5,\"o\")\r\n",
        "plt.legend(['Juan','Sergio','Carla'])\r\n",
        "plt.title('Calcular las distancias entre usuarios')"
      ],
      "execution_count": null,
      "outputs": [
        {
          "output_type": "execute_result",
          "data": {
            "text/plain": [
              "Text(0.5, 1.0, 'Calcular las distancias entre usuarios')"
            ]
          },
          "metadata": {
            "tags": []
          },
          "execution_count": 23
        },
        {
          "output_type": "display_data",
          "data": {
            "image/png": "[encoded data removed]",
            "text/plain": [
              "<Figure size 432x288 with 1 Axes>"
            ]
          },
          "metadata": {
            "tags": [],
            "needs_background": "light"
          }
        }
      ]
    },
    {
      "cell_type": "code",
      "metadata": {
        "colab": {
          "base_uri": "https://localhost:8080/"
        },
        "id": "yH6XGsZVjhyq",
        "outputId": "0c8e9108-9c28-4434-adad-dd3be0877092"
      },
      "source": [
        "juan = np.array([5,5,4.5])\r\n",
        "sergio = np.array([4,4.5,5])\r\n",
        "carla = np.array([4.5,3.5,5])\r\n",
        "\r\n",
        "print(distancia(juan,sergio))\r\n",
        "print(distancia(sergio,carla))\r\n",
        "print(distancia(juan,carla))\r\n"
      ],
      "execution_count": null,
      "outputs": [
        {
          "output_type": "stream",
          "text": [
            "1.224744871391589\n",
            "1.118033988749895\n",
            "1.6583123951777\n"
          ],
          "name": "stdout"
        }
      ]
    },
    {
      "cell_type": "markdown",
      "metadata": {
        "id": "-MvSSOVDbwTO"
      },
      "source": [
        "#Generalizando el cálculo de distancias"
      ]
    },
    {
      "cell_type": "code",
      "metadata": {
        "colab": {
          "base_uri": "https://localhost:8080/",
          "height": 195
        },
        "id": "BvHHjq17b0QY",
        "outputId": "83132c0d-0755-4bad-db5e-364b1d52531f"
      },
      "source": [
        "notas.head()"
      ],
      "execution_count": null,
      "outputs": [
        {
          "output_type": "execute_result",
          "data": {
            "text/html": [
              "<div>\n",
              "<style scoped>\n",
              "    .dataframe tbody tr th:only-of-type {\n",
              "        vertical-align: middle;\n",
              "    }\n",
              "\n",
              "    .dataframe tbody tr th {\n",
              "        vertical-align: top;\n",
              "    }\n",
              "\n",
              "    .dataframe thead th {\n",
              "        text-align: right;\n",
              "    }\n",
              "</style>\n",
              "<table border=\"1\" class=\"dataframe\">\n",
              "  <thead>\n",
              "    <tr style=\"text-align: right;\">\n",
              "      <th></th>\n",
              "      <th>usuarioId</th>\n",
              "      <th>peliculaId</th>\n",
              "      <th>nota</th>\n",
              "      <th>momento</th>\n",
              "    </tr>\n",
              "  </thead>\n",
              "  <tbody>\n",
              "    <tr>\n",
              "      <th>0</th>\n",
              "      <td>1</td>\n",
              "      <td>1</td>\n",
              "      <td>4.0</td>\n",
              "      <td>964982703</td>\n",
              "    </tr>\n",
              "    <tr>\n",
              "      <th>1</th>\n",
              "      <td>1</td>\n",
              "      <td>3</td>\n",
              "      <td>4.0</td>\n",
              "      <td>964981247</td>\n",
              "    </tr>\n",
              "    <tr>\n",
              "      <th>2</th>\n",
              "      <td>1</td>\n",
              "      <td>6</td>\n",
              "      <td>4.0</td>\n",
              "      <td>964982224</td>\n",
              "    </tr>\n",
              "    <tr>\n",
              "      <th>3</th>\n",
              "      <td>1</td>\n",
              "      <td>47</td>\n",
              "      <td>5.0</td>\n",
              "      <td>964983815</td>\n",
              "    </tr>\n",
              "    <tr>\n",
              "      <th>4</th>\n",
              "      <td>1</td>\n",
              "      <td>50</td>\n",
              "      <td>5.0</td>\n",
              "      <td>964982931</td>\n",
              "    </tr>\n",
              "  </tbody>\n",
              "</table>\n",
              "</div>"
            ],
            "text/plain": [
              "   usuarioId  peliculaId  nota    momento\n",
              "0          1           1   4.0  964982703\n",
              "1          1           3   4.0  964981247\n",
              "2          1           6   4.0  964982224\n",
              "3          1          47   5.0  964983815\n",
              "4          1          50   5.0  964982931"
            ]
          },
          "metadata": {
            "tags": []
          },
          "execution_count": 25
        }
      ]
    },
    {
      "cell_type": "code",
      "metadata": {
        "colab": {
          "base_uri": "https://localhost:8080/"
        },
        "id": "iWKqQYDCb2RK",
        "outputId": "8b4ed960-a3c6-4ace-9ef2-b816c3b5d9f5"
      },
      "source": [
        "usuario1 = notas.query(\"usuarioId==1\")[['peliculaId','nota']].set_index('peliculaId')\r\n",
        "usuario4 = notas.query(\"usuarioId==4\")[['peliculaId','nota']].set_index('peliculaId')\r\n",
        "\r\n",
        "diferencias = usuario1.join(usuario4, lsuffix='_izq', rsuffix='_der').dropna()\r\n",
        "distancia(diferencias['nota_izq'],diferencias['nota_der'])\r\n",
        "\r\n"
      ],
      "execution_count": null,
      "outputs": [
        {
          "output_type": "execute_result",
          "data": {
            "text/plain": [
              "11.135528725660043"
            ]
          },
          "metadata": {
            "tags": []
          },
          "execution_count": 26
        }
      ]
    },
    {
      "cell_type": "code",
      "metadata": {
        "id": "ewHbHxf1jquP"
      },
      "source": [
        "def notas_del_usuario(usuarioId):\r\n",
        "  notas_del_usuario = notas.query(\"usuarioId==%d\" % usuarioId )[['peliculaId','nota']]\r\n",
        "  notas_del_usuario = notas_del_usuario.set_index('peliculaId')\r\n",
        "  return notas_del_usuario\r\n",
        "\r\n",
        "\r\n"
      ],
      "execution_count": null,
      "outputs": []
    },
    {
      "cell_type": "code",
      "metadata": {
        "id": "0Zpn5FSJohn6"
      },
      "source": [
        "def diferencia_de_vectores(a,b):\r\n",
        "  return np.linalg.norm(a-b)"
      ],
      "execution_count": null,
      "outputs": []
    },
    {
      "cell_type": "code",
      "metadata": {
        "id": "8Og3u1zCn38H"
      },
      "source": [
        "def distancia_entre_usuarios(usuario_id1,usuario_id2):\r\n",
        "  notas1 = notas_del_usuario(usuario_id1)\r\n",
        "  notas2 = notas_del_usuario(usuario_id2)\r\n",
        "  diferencias = notas1.join(notas2, lsuffix='_izq', rsuffix='_der').dropna()\r\n",
        "  return diferencia_de_vectores(diferencias['nota_izq'],diferencias['nota_der'])\r\n"
      ],
      "execution_count": null,
      "outputs": []
    },
    {
      "cell_type": "code",
      "metadata": {
        "colab": {
          "base_uri": "https://localhost:8080/"
        },
        "id": "_Y75JeHEotmt",
        "outputId": "b171d631-1c89-4454-ffcd-016ae61c07e4"
      },
      "source": [
        "distancia_entre_usuarios(1,6)"
      ],
      "execution_count": null,
      "outputs": [
        {
          "output_type": "execute_result",
          "data": {
            "text/plain": [
              "8.602325267042627"
            ]
          },
          "metadata": {
            "tags": []
          },
          "execution_count": 30
        }
      ]
    },
    {
      "cell_type": "markdown",
      "metadata": {
        "id": "nbsLSI2jxRTE"
      },
      "source": [
        "#Distancia de un usuario de referencia con el resto de usuarios"
      ]
    },
    {
      "cell_type": "code",
      "metadata": {
        "colab": {
          "base_uri": "https://localhost:8080/"
        },
        "id": "7HBAQ-7hovoF",
        "outputId": "b1ea763c-bb0b-4841-870c-13592dc5fbfc"
      },
      "source": [
        "len(notas['usuarioId'].unique())"
      ],
      "execution_count": null,
      "outputs": [
        {
          "output_type": "execute_result",
          "data": {
            "text/plain": [
              "610"
            ]
          },
          "metadata": {
            "tags": []
          },
          "execution_count": 31
        }
      ]
    },
    {
      "cell_type": "code",
      "metadata": {
        "id": "WE3aJhmSyEPa"
      },
      "source": [
        "def distancia_entre_usuarios(usuario_id1,usuario_id2):\r\n",
        "  notas1 = notas_del_usuario(usuario_id1)\r\n",
        "  notas2 = notas_del_usuario(usuario_id2)\r\n",
        "  diferencias = notas1.join(notas2, lsuffix='_izq', rsuffix='_der').dropna()\r\n",
        "  distancia = diferencia_de_vectores(diferencias['nota_izq'],diferencias['nota_der'])\r\n",
        "  return [usuario_id1, usuario_id2, distancia]"
      ],
      "execution_count": null,
      "outputs": []
    },
    {
      "cell_type": "code",
      "metadata": {
        "id": "PpefTEYnxaBD"
      },
      "source": [
        "def distancia_de_todos(usuario_ref):\r\n",
        "  usuarios = notas['usuarioId'].unique()\r\n",
        "  distancias = []\r\n",
        "  for usuario in usuarios:\r\n",
        "    informaciones = distancia_entre_usuarios(usuario_ref, usuario)\r\n",
        "    distancias.append(informaciones)\r\n",
        "  distancias = pd.DataFrame(distancias, columns=['usuario_ref','usuario','distancia'])\r\n",
        "  return distancias\r\n",
        "    \r\n",
        "  \r\n",
        "\r\n"
      ],
      "execution_count": null,
      "outputs": []
    },
    {
      "cell_type": "code",
      "metadata": {
        "colab": {
          "base_uri": "https://localhost:8080/",
          "height": 343
        },
        "id": "vnObeGYMyfUg",
        "outputId": "93b84881-7e2d-406f-a104-5328008a337e"
      },
      "source": [
        "distancia_de_todos(1).head(10)"
      ],
      "execution_count": null,
      "outputs": [
        {
          "output_type": "execute_result",
          "data": {
            "text/html": [
              "<div>\n",
              "<style scoped>\n",
              "    .dataframe tbody tr th:only-of-type {\n",
              "        vertical-align: middle;\n",
              "    }\n",
              "\n",
              "    .dataframe tbody tr th {\n",
              "        vertical-align: top;\n",
              "    }\n",
              "\n",
              "    .dataframe thead th {\n",
              "        text-align: right;\n",
              "    }\n",
              "</style>\n",
              "<table border=\"1\" class=\"dataframe\">\n",
              "  <thead>\n",
              "    <tr style=\"text-align: right;\">\n",
              "      <th></th>\n",
              "      <th>usuario_ref</th>\n",
              "      <th>usuario</th>\n",
              "      <th>distancia</th>\n",
              "    </tr>\n",
              "  </thead>\n",
              "  <tbody>\n",
              "    <tr>\n",
              "      <th>0</th>\n",
              "      <td>1</td>\n",
              "      <td>1</td>\n",
              "      <td>0.000000</td>\n",
              "    </tr>\n",
              "    <tr>\n",
              "      <th>1</th>\n",
              "      <td>1</td>\n",
              "      <td>2</td>\n",
              "      <td>1.414214</td>\n",
              "    </tr>\n",
              "    <tr>\n",
              "      <th>2</th>\n",
              "      <td>1</td>\n",
              "      <td>3</td>\n",
              "      <td>8.200610</td>\n",
              "    </tr>\n",
              "    <tr>\n",
              "      <th>3</th>\n",
              "      <td>1</td>\n",
              "      <td>4</td>\n",
              "      <td>11.135529</td>\n",
              "    </tr>\n",
              "    <tr>\n",
              "      <th>4</th>\n",
              "      <td>1</td>\n",
              "      <td>5</td>\n",
              "      <td>3.741657</td>\n",
              "    </tr>\n",
              "    <tr>\n",
              "      <th>5</th>\n",
              "      <td>1</td>\n",
              "      <td>6</td>\n",
              "      <td>8.602325</td>\n",
              "    </tr>\n",
              "    <tr>\n",
              "      <th>6</th>\n",
              "      <td>1</td>\n",
              "      <td>7</td>\n",
              "      <td>7.106335</td>\n",
              "    </tr>\n",
              "    <tr>\n",
              "      <th>7</th>\n",
              "      <td>1</td>\n",
              "      <td>8</td>\n",
              "      <td>3.741657</td>\n",
              "    </tr>\n",
              "    <tr>\n",
              "      <th>8</th>\n",
              "      <td>1</td>\n",
              "      <td>9</td>\n",
              "      <td>1.000000</td>\n",
              "    </tr>\n",
              "    <tr>\n",
              "      <th>9</th>\n",
              "      <td>1</td>\n",
              "      <td>10</td>\n",
              "      <td>7.858117</td>\n",
              "    </tr>\n",
              "  </tbody>\n",
              "</table>\n",
              "</div>"
            ],
            "text/plain": [
              "   usuario_ref  usuario  distancia\n",
              "0            1        1   0.000000\n",
              "1            1        2   1.414214\n",
              "2            1        3   8.200610\n",
              "3            1        4  11.135529\n",
              "4            1        5   3.741657\n",
              "5            1        6   8.602325\n",
              "6            1        7   7.106335\n",
              "7            1        8   3.741657\n",
              "8            1        9   1.000000\n",
              "9            1       10   7.858117"
            ]
          },
          "metadata": {
            "tags": []
          },
          "execution_count": 34
        }
      ]
    },
    {
      "cell_type": "code",
      "metadata": {
        "colab": {
          "base_uri": "https://localhost:8080/",
          "height": 639
        },
        "id": "FOYGm4GxzQTy",
        "outputId": "edbb8f96-a892-41d6-f577-91a32c431bf1"
      },
      "source": [
        "distancia_de_todos(1).sort_values('distancia').head(20)"
      ],
      "execution_count": null,
      "outputs": [
        {
          "output_type": "execute_result",
          "data": {
            "text/html": [
              "<div>\n",
              "<style scoped>\n",
              "    .dataframe tbody tr th:only-of-type {\n",
              "        vertical-align: middle;\n",
              "    }\n",
              "\n",
              "    .dataframe tbody tr th {\n",
              "        vertical-align: top;\n",
              "    }\n",
              "\n",
              "    .dataframe thead th {\n",
              "        text-align: right;\n",
              "    }\n",
              "</style>\n",
              "<table border=\"1\" class=\"dataframe\">\n",
              "  <thead>\n",
              "    <tr style=\"text-align: right;\">\n",
              "      <th></th>\n",
              "      <th>usuario_ref</th>\n",
              "      <th>usuario</th>\n",
              "      <th>distancia</th>\n",
              "    </tr>\n",
              "  </thead>\n",
              "  <tbody>\n",
              "    <tr>\n",
              "      <th>0</th>\n",
              "      <td>1</td>\n",
              "      <td>1</td>\n",
              "      <td>0.000000</td>\n",
              "    </tr>\n",
              "    <tr>\n",
              "      <th>577</th>\n",
              "      <td>1</td>\n",
              "      <td>578</td>\n",
              "      <td>0.000000</td>\n",
              "    </tr>\n",
              "    <tr>\n",
              "      <th>76</th>\n",
              "      <td>1</td>\n",
              "      <td>77</td>\n",
              "      <td>0.000000</td>\n",
              "    </tr>\n",
              "    <tr>\n",
              "      <th>84</th>\n",
              "      <td>1</td>\n",
              "      <td>85</td>\n",
              "      <td>0.000000</td>\n",
              "    </tr>\n",
              "    <tr>\n",
              "      <th>174</th>\n",
              "      <td>1</td>\n",
              "      <td>175</td>\n",
              "      <td>0.000000</td>\n",
              "    </tr>\n",
              "    <tr>\n",
              "      <th>555</th>\n",
              "      <td>1</td>\n",
              "      <td>556</td>\n",
              "      <td>0.000000</td>\n",
              "    </tr>\n",
              "    <tr>\n",
              "      <th>252</th>\n",
              "      <td>1</td>\n",
              "      <td>253</td>\n",
              "      <td>0.000000</td>\n",
              "    </tr>\n",
              "    <tr>\n",
              "      <th>290</th>\n",
              "      <td>1</td>\n",
              "      <td>291</td>\n",
              "      <td>0.000000</td>\n",
              "    </tr>\n",
              "    <tr>\n",
              "      <th>305</th>\n",
              "      <td>1</td>\n",
              "      <td>306</td>\n",
              "      <td>0.000000</td>\n",
              "    </tr>\n",
              "    <tr>\n",
              "      <th>495</th>\n",
              "      <td>1</td>\n",
              "      <td>496</td>\n",
              "      <td>0.000000</td>\n",
              "    </tr>\n",
              "    <tr>\n",
              "      <th>396</th>\n",
              "      <td>1</td>\n",
              "      <td>397</td>\n",
              "      <td>0.000000</td>\n",
              "    </tr>\n",
              "    <tr>\n",
              "      <th>505</th>\n",
              "      <td>1</td>\n",
              "      <td>506</td>\n",
              "      <td>0.000000</td>\n",
              "    </tr>\n",
              "    <tr>\n",
              "      <th>471</th>\n",
              "      <td>1</td>\n",
              "      <td>472</td>\n",
              "      <td>0.500000</td>\n",
              "    </tr>\n",
              "    <tr>\n",
              "      <th>510</th>\n",
              "      <td>1</td>\n",
              "      <td>511</td>\n",
              "      <td>0.500000</td>\n",
              "    </tr>\n",
              "    <tr>\n",
              "      <th>277</th>\n",
              "      <td>1</td>\n",
              "      <td>278</td>\n",
              "      <td>0.500000</td>\n",
              "    </tr>\n",
              "    <tr>\n",
              "      <th>549</th>\n",
              "      <td>1</td>\n",
              "      <td>550</td>\n",
              "      <td>0.500000</td>\n",
              "    </tr>\n",
              "    <tr>\n",
              "      <th>365</th>\n",
              "      <td>1</td>\n",
              "      <td>366</td>\n",
              "      <td>0.707107</td>\n",
              "    </tr>\n",
              "    <tr>\n",
              "      <th>11</th>\n",
              "      <td>1</td>\n",
              "      <td>12</td>\n",
              "      <td>0.707107</td>\n",
              "    </tr>\n",
              "    <tr>\n",
              "      <th>126</th>\n",
              "      <td>1</td>\n",
              "      <td>127</td>\n",
              "      <td>1.000000</td>\n",
              "    </tr>\n",
              "    <tr>\n",
              "      <th>387</th>\n",
              "      <td>1</td>\n",
              "      <td>388</td>\n",
              "      <td>1.000000</td>\n",
              "    </tr>\n",
              "  </tbody>\n",
              "</table>\n",
              "</div>"
            ],
            "text/plain": [
              "     usuario_ref  usuario  distancia\n",
              "0              1        1   0.000000\n",
              "577            1      578   0.000000\n",
              "76             1       77   0.000000\n",
              "84             1       85   0.000000\n",
              "174            1      175   0.000000\n",
              "555            1      556   0.000000\n",
              "252            1      253   0.000000\n",
              "290            1      291   0.000000\n",
              "305            1      306   0.000000\n",
              "495            1      496   0.000000\n",
              "396            1      397   0.000000\n",
              "505            1      506   0.000000\n",
              "471            1      472   0.500000\n",
              "510            1      511   0.500000\n",
              "277            1      278   0.500000\n",
              "549            1      550   0.500000\n",
              "365            1      366   0.707107\n",
              "11             1       12   0.707107\n",
              "126            1      127   1.000000\n",
              "387            1      388   1.000000"
            ]
          },
          "metadata": {
            "tags": []
          },
          "execution_count": 35
        }
      ]
    },
    {
      "cell_type": "markdown",
      "metadata": {
        "id": "xxJG1FMCCGX0"
      },
      "source": [
        "#Refinando nuestra funcion de distancia para no considerar usuarios distantes"
      ]
    },
    {
      "cell_type": "code",
      "metadata": {
        "colab": {
          "base_uri": "https://localhost:8080/",
          "height": 106
        },
        "id": "sTjsjbIfA8kJ",
        "outputId": "1368ee21-7021-45a2-f58f-5744bde73e45"
      },
      "source": [
        "notas_del_usuario(1).join(notas_del_usuario(85),lsuffix='_izq', rsuffix='_der').dropna()"
      ],
      "execution_count": null,
      "outputs": [
        {
          "output_type": "execute_result",
          "data": {
            "text/html": [
              "<div>\n",
              "<style scoped>\n",
              "    .dataframe tbody tr th:only-of-type {\n",
              "        vertical-align: middle;\n",
              "    }\n",
              "\n",
              "    .dataframe tbody tr th {\n",
              "        vertical-align: top;\n",
              "    }\n",
              "\n",
              "    .dataframe thead th {\n",
              "        text-align: right;\n",
              "    }\n",
              "</style>\n",
              "<table border=\"1\" class=\"dataframe\">\n",
              "  <thead>\n",
              "    <tr style=\"text-align: right;\">\n",
              "      <th></th>\n",
              "      <th>nota_izq</th>\n",
              "      <th>nota_der</th>\n",
              "    </tr>\n",
              "    <tr>\n",
              "      <th>peliculaId</th>\n",
              "      <th></th>\n",
              "      <th></th>\n",
              "    </tr>\n",
              "  </thead>\n",
              "  <tbody>\n",
              "    <tr>\n",
              "      <th>527</th>\n",
              "      <td>5.0</td>\n",
              "      <td>5.0</td>\n",
              "    </tr>\n",
              "  </tbody>\n",
              "</table>\n",
              "</div>"
            ],
            "text/plain": [
              "            nota_izq  nota_der\n",
              "peliculaId                    \n",
              "527              5.0       5.0"
            ]
          },
          "metadata": {
            "tags": []
          },
          "execution_count": 36
        }
      ]
    },
    {
      "cell_type": "code",
      "metadata": {
        "id": "CLFz89DtBQI5"
      },
      "source": [
        "def distancia_entre_usuarios(usuario_id1,usuario_id2,minimo=5):\r\n",
        "  notas1 = notas_del_usuario(usuario_id1)\r\n",
        "  notas2 = notas_del_usuario(usuario_id2)\r\n",
        "  diferencias = notas1.join(notas2, lsuffix='_izq', rsuffix='_der').dropna()\r\n",
        "  if len(diferencias) < minimo:\r\n",
        "    return [usuario_id1, usuario_id2, 10000]\r\n",
        "  distancia = diferencia_de_vectores(diferencias['nota_izq'],diferencias['nota_der'])\r\n",
        "  return [usuario_id1, usuario_id2, distancia]"
      ],
      "execution_count": null,
      "outputs": []
    },
    {
      "cell_type": "code",
      "metadata": {
        "id": "gCOiuToSCki8"
      },
      "source": [
        "def distancia_de_todos(usuario_ref):\r\n",
        "  usuarios = notas['usuarioId'].unique()\r\n",
        "  distancias = []\r\n",
        "  for usuario in usuarios:\r\n",
        "    informaciones = distancia_entre_usuarios(usuario_ref, usuario)\r\n",
        "    distancias.append(informaciones)\r\n",
        "  distancias = pd.DataFrame(distancias, columns=['usuario_ref','usuario','distancia'])\r\n",
        "  return distancias\r\n",
        "    "
      ],
      "execution_count": null,
      "outputs": []
    },
    {
      "cell_type": "code",
      "metadata": {
        "colab": {
          "base_uri": "https://localhost:8080/",
          "height": 639
        },
        "id": "NKao3AhMQXoL",
        "outputId": "b33a6ae9-8473-4b52-cf57-69188aa2746c"
      },
      "source": [
        "distancia_de_todos(1).sort_values('distancia').head(20)"
      ],
      "execution_count": null,
      "outputs": [
        {
          "output_type": "execute_result",
          "data": {
            "text/html": [
              "<div>\n",
              "<style scoped>\n",
              "    .dataframe tbody tr th:only-of-type {\n",
              "        vertical-align: middle;\n",
              "    }\n",
              "\n",
              "    .dataframe tbody tr th {\n",
              "        vertical-align: top;\n",
              "    }\n",
              "\n",
              "    .dataframe thead th {\n",
              "        text-align: right;\n",
              "    }\n",
              "</style>\n",
              "<table border=\"1\" class=\"dataframe\">\n",
              "  <thead>\n",
              "    <tr style=\"text-align: right;\">\n",
              "      <th></th>\n",
              "      <th>usuario_ref</th>\n",
              "      <th>usuario</th>\n",
              "      <th>distancia</th>\n",
              "    </tr>\n",
              "  </thead>\n",
              "  <tbody>\n",
              "    <tr>\n",
              "      <th>0</th>\n",
              "      <td>1</td>\n",
              "      <td>1</td>\n",
              "      <td>0.000000</td>\n",
              "    </tr>\n",
              "    <tr>\n",
              "      <th>76</th>\n",
              "      <td>1</td>\n",
              "      <td>77</td>\n",
              "      <td>0.000000</td>\n",
              "    </tr>\n",
              "    <tr>\n",
              "      <th>510</th>\n",
              "      <td>1</td>\n",
              "      <td>511</td>\n",
              "      <td>0.500000</td>\n",
              "    </tr>\n",
              "    <tr>\n",
              "      <th>365</th>\n",
              "      <td>1</td>\n",
              "      <td>366</td>\n",
              "      <td>0.707107</td>\n",
              "    </tr>\n",
              "    <tr>\n",
              "      <th>522</th>\n",
              "      <td>1</td>\n",
              "      <td>523</td>\n",
              "      <td>1.000000</td>\n",
              "    </tr>\n",
              "    <tr>\n",
              "      <th>48</th>\n",
              "      <td>1</td>\n",
              "      <td>49</td>\n",
              "      <td>1.000000</td>\n",
              "    </tr>\n",
              "    <tr>\n",
              "      <th>8</th>\n",
              "      <td>1</td>\n",
              "      <td>9</td>\n",
              "      <td>1.000000</td>\n",
              "    </tr>\n",
              "    <tr>\n",
              "      <th>257</th>\n",
              "      <td>1</td>\n",
              "      <td>258</td>\n",
              "      <td>1.000000</td>\n",
              "    </tr>\n",
              "    <tr>\n",
              "      <th>318</th>\n",
              "      <td>1</td>\n",
              "      <td>319</td>\n",
              "      <td>1.118034</td>\n",
              "    </tr>\n",
              "    <tr>\n",
              "      <th>397</th>\n",
              "      <td>1</td>\n",
              "      <td>398</td>\n",
              "      <td>1.224745</td>\n",
              "    </tr>\n",
              "    <tr>\n",
              "      <th>64</th>\n",
              "      <td>1</td>\n",
              "      <td>65</td>\n",
              "      <td>1.322876</td>\n",
              "    </tr>\n",
              "    <tr>\n",
              "      <th>161</th>\n",
              "      <td>1</td>\n",
              "      <td>162</td>\n",
              "      <td>1.414214</td>\n",
              "    </tr>\n",
              "    <tr>\n",
              "      <th>529</th>\n",
              "      <td>1</td>\n",
              "      <td>530</td>\n",
              "      <td>1.414214</td>\n",
              "    </tr>\n",
              "    <tr>\n",
              "      <th>89</th>\n",
              "      <td>1</td>\n",
              "      <td>90</td>\n",
              "      <td>1.414214</td>\n",
              "    </tr>\n",
              "    <tr>\n",
              "      <th>24</th>\n",
              "      <td>1</td>\n",
              "      <td>25</td>\n",
              "      <td>1.414214</td>\n",
              "    </tr>\n",
              "    <tr>\n",
              "      <th>12</th>\n",
              "      <td>1</td>\n",
              "      <td>13</td>\n",
              "      <td>1.414214</td>\n",
              "    </tr>\n",
              "    <tr>\n",
              "      <th>514</th>\n",
              "      <td>1</td>\n",
              "      <td>515</td>\n",
              "      <td>1.500000</td>\n",
              "    </tr>\n",
              "    <tr>\n",
              "      <th>299</th>\n",
              "      <td>1</td>\n",
              "      <td>300</td>\n",
              "      <td>1.500000</td>\n",
              "    </tr>\n",
              "    <tr>\n",
              "      <th>337</th>\n",
              "      <td>1</td>\n",
              "      <td>338</td>\n",
              "      <td>1.658312</td>\n",
              "    </tr>\n",
              "    <tr>\n",
              "      <th>580</th>\n",
              "      <td>1</td>\n",
              "      <td>581</td>\n",
              "      <td>1.658312</td>\n",
              "    </tr>\n",
              "  </tbody>\n",
              "</table>\n",
              "</div>"
            ],
            "text/plain": [
              "     usuario_ref  usuario  distancia\n",
              "0              1        1   0.000000\n",
              "76             1       77   0.000000\n",
              "510            1      511   0.500000\n",
              "365            1      366   0.707107\n",
              "522            1      523   1.000000\n",
              "48             1       49   1.000000\n",
              "8              1        9   1.000000\n",
              "257            1      258   1.000000\n",
              "318            1      319   1.118034\n",
              "397            1      398   1.224745\n",
              "64             1       65   1.322876\n",
              "161            1      162   1.414214\n",
              "529            1      530   1.414214\n",
              "89             1       90   1.414214\n",
              "24             1       25   1.414214\n",
              "12             1       13   1.414214\n",
              "514            1      515   1.500000\n",
              "299            1      300   1.500000\n",
              "337            1      338   1.658312\n",
              "580            1      581   1.658312"
            ]
          },
          "metadata": {
            "tags": []
          },
          "execution_count": 39
        }
      ]
    }
  ]
}